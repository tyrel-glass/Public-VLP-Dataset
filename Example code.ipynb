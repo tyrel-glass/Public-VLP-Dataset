{
 "cells": [
  {
   "cell_type": "code",
   "execution_count": 1,
   "metadata": {},
   "outputs": [],
   "source": [
    "import pandas as pd\n",
    "import numpy as np\n",
    "import matplotlib.pyplot as plt"
   ]
  },
  {
   "cell_type": "markdown",
   "metadata": {},
   "source": [
    "## Read in the data"
   ]
  },
  {
   "cell_type": "markdown",
   "metadata": {},
   "source": [
    "### RSS dataset"
   ]
  },
  {
   "cell_type": "code",
   "execution_count": 2,
   "metadata": {},
   "outputs": [
    {
     "data": {
      "text/html": [
       "<div>\n",
       "<style scoped>\n",
       "    .dataframe tbody tr th:only-of-type {\n",
       "        vertical-align: middle;\n",
       "    }\n",
       "\n",
       "    .dataframe tbody tr th {\n",
       "        vertical-align: top;\n",
       "    }\n",
       "\n",
       "    .dataframe thead th {\n",
       "        text-align: right;\n",
       "    }\n",
       "</style>\n",
       "<table border=\"1\" class=\"dataframe\">\n",
       "  <thead>\n",
       "    <tr style=\"text-align: right;\">\n",
       "      <th></th>\n",
       "      <th>L1</th>\n",
       "      <th>L2</th>\n",
       "      <th>L3</th>\n",
       "      <th>L4</th>\n",
       "      <th>L5</th>\n",
       "      <th>L6</th>\n",
       "      <th>L7</th>\n",
       "      <th>L8</th>\n",
       "      <th>L9</th>\n",
       "      <th>L10</th>\n",
       "      <th>L11</th>\n",
       "      <th>x</th>\n",
       "      <th>y</th>\n",
       "    </tr>\n",
       "    <tr>\n",
       "      <th>index</th>\n",
       "      <th></th>\n",
       "      <th></th>\n",
       "      <th></th>\n",
       "      <th></th>\n",
       "      <th></th>\n",
       "      <th></th>\n",
       "      <th></th>\n",
       "      <th></th>\n",
       "      <th></th>\n",
       "      <th></th>\n",
       "      <th></th>\n",
       "      <th></th>\n",
       "      <th></th>\n",
       "    </tr>\n",
       "  </thead>\n",
       "  <tbody>\n",
       "    <tr>\n",
       "      <th>0</th>\n",
       "      <td>15.0</td>\n",
       "      <td>23.893122</td>\n",
       "      <td>39.405362</td>\n",
       "      <td>191.227092</td>\n",
       "      <td>68.628566</td>\n",
       "      <td>15.0</td>\n",
       "      <td>86.628103</td>\n",
       "      <td>282.928669</td>\n",
       "      <td>64.751934</td>\n",
       "      <td>35.857665</td>\n",
       "      <td>15.0</td>\n",
       "      <td>3.684493</td>\n",
       "      <td>1.733080</td>\n",
       "    </tr>\n",
       "    <tr>\n",
       "      <th>1</th>\n",
       "      <td>15.0</td>\n",
       "      <td>25.834706</td>\n",
       "      <td>40.269304</td>\n",
       "      <td>215.163688</td>\n",
       "      <td>53.172126</td>\n",
       "      <td>15.0</td>\n",
       "      <td>65.938937</td>\n",
       "      <td>314.402304</td>\n",
       "      <td>67.591192</td>\n",
       "      <td>35.151599</td>\n",
       "      <td>15.0</td>\n",
       "      <td>3.682122</td>\n",
       "      <td>1.518624</td>\n",
       "    </tr>\n",
       "    <tr>\n",
       "      <th>2</th>\n",
       "      <td>15.0</td>\n",
       "      <td>19.699516</td>\n",
       "      <td>43.623517</td>\n",
       "      <td>234.470798</td>\n",
       "      <td>43.794282</td>\n",
       "      <td>15.0</td>\n",
       "      <td>53.995155</td>\n",
       "      <td>331.835963</td>\n",
       "      <td>69.891430</td>\n",
       "      <td>28.650815</td>\n",
       "      <td>15.0</td>\n",
       "      <td>3.680984</td>\n",
       "      <td>1.276831</td>\n",
       "    </tr>\n",
       "    <tr>\n",
       "      <th>3</th>\n",
       "      <td>15.0</td>\n",
       "      <td>19.363725</td>\n",
       "      <td>43.220782</td>\n",
       "      <td>222.716910</td>\n",
       "      <td>39.423066</td>\n",
       "      <td>15.0</td>\n",
       "      <td>41.133686</td>\n",
       "      <td>336.608655</td>\n",
       "      <td>71.597389</td>\n",
       "      <td>28.532250</td>\n",
       "      <td>15.0</td>\n",
       "      <td>3.680257</td>\n",
       "      <td>1.034484</td>\n",
       "    </tr>\n",
       "    <tr>\n",
       "      <th>4</th>\n",
       "      <td>15.0</td>\n",
       "      <td>17.633501</td>\n",
       "      <td>40.052924</td>\n",
       "      <td>208.304308</td>\n",
       "      <td>28.006412</td>\n",
       "      <td>15.0</td>\n",
       "      <td>33.895850</td>\n",
       "      <td>314.559317</td>\n",
       "      <td>69.771484</td>\n",
       "      <td>24.902615</td>\n",
       "      <td>15.0</td>\n",
       "      <td>3.679607</td>\n",
       "      <td>0.703489</td>\n",
       "    </tr>\n",
       "    <tr>\n",
       "      <th>5</th>\n",
       "      <td>15.0</td>\n",
       "      <td>17.727616</td>\n",
       "      <td>42.723356</td>\n",
       "      <td>206.825400</td>\n",
       "      <td>26.805612</td>\n",
       "      <td>15.0</td>\n",
       "      <td>32.276864</td>\n",
       "      <td>284.434066</td>\n",
       "      <td>68.717507</td>\n",
       "      <td>25.330654</td>\n",
       "      <td>15.0</td>\n",
       "      <td>3.678878</td>\n",
       "      <td>0.462427</td>\n",
       "    </tr>\n",
       "    <tr>\n",
       "      <th>6</th>\n",
       "      <td>15.0</td>\n",
       "      <td>15.108934</td>\n",
       "      <td>41.248565</td>\n",
       "      <td>220.922869</td>\n",
       "      <td>31.797890</td>\n",
       "      <td>15.0</td>\n",
       "      <td>32.275012</td>\n",
       "      <td>323.923756</td>\n",
       "      <td>77.398389</td>\n",
       "      <td>26.062942</td>\n",
       "      <td>15.0</td>\n",
       "      <td>3.646504</td>\n",
       "      <td>0.642071</td>\n",
       "    </tr>\n",
       "    <tr>\n",
       "      <th>7</th>\n",
       "      <td>15.0</td>\n",
       "      <td>15.000000</td>\n",
       "      <td>40.159962</td>\n",
       "      <td>215.998156</td>\n",
       "      <td>30.603817</td>\n",
       "      <td>15.0</td>\n",
       "      <td>38.635451</td>\n",
       "      <td>341.809341</td>\n",
       "      <td>78.464496</td>\n",
       "      <td>29.550591</td>\n",
       "      <td>15.0</td>\n",
       "      <td>3.657716</td>\n",
       "      <td>0.849839</td>\n",
       "    </tr>\n",
       "    <tr>\n",
       "      <th>8</th>\n",
       "      <td>15.0</td>\n",
       "      <td>17.086172</td>\n",
       "      <td>38.699253</td>\n",
       "      <td>236.017112</td>\n",
       "      <td>36.825146</td>\n",
       "      <td>15.0</td>\n",
       "      <td>47.164610</td>\n",
       "      <td>341.800246</td>\n",
       "      <td>76.823222</td>\n",
       "      <td>31.218162</td>\n",
       "      <td>15.0</td>\n",
       "      <td>3.641089</td>\n",
       "      <td>1.058537</td>\n",
       "    </tr>\n",
       "    <tr>\n",
       "      <th>9</th>\n",
       "      <td>15.0</td>\n",
       "      <td>21.268998</td>\n",
       "      <td>39.999356</td>\n",
       "      <td>242.656925</td>\n",
       "      <td>45.041833</td>\n",
       "      <td>15.0</td>\n",
       "      <td>54.105370</td>\n",
       "      <td>334.441746</td>\n",
       "      <td>75.198227</td>\n",
       "      <td>31.538389</td>\n",
       "      <td>15.0</td>\n",
       "      <td>3.642008</td>\n",
       "      <td>1.267371</td>\n",
       "    </tr>\n",
       "  </tbody>\n",
       "</table>\n",
       "</div>"
      ],
      "text/plain": [
       "         L1         L2         L3          L4         L5    L6         L7  \\\n",
       "index                                                                       \n",
       "0      15.0  23.893122  39.405362  191.227092  68.628566  15.0  86.628103   \n",
       "1      15.0  25.834706  40.269304  215.163688  53.172126  15.0  65.938937   \n",
       "2      15.0  19.699516  43.623517  234.470798  43.794282  15.0  53.995155   \n",
       "3      15.0  19.363725  43.220782  222.716910  39.423066  15.0  41.133686   \n",
       "4      15.0  17.633501  40.052924  208.304308  28.006412  15.0  33.895850   \n",
       "5      15.0  17.727616  42.723356  206.825400  26.805612  15.0  32.276864   \n",
       "6      15.0  15.108934  41.248565  220.922869  31.797890  15.0  32.275012   \n",
       "7      15.0  15.000000  40.159962  215.998156  30.603817  15.0  38.635451   \n",
       "8      15.0  17.086172  38.699253  236.017112  36.825146  15.0  47.164610   \n",
       "9      15.0  21.268998  39.999356  242.656925  45.041833  15.0  54.105370   \n",
       "\n",
       "               L8         L9        L10   L11         x         y  \n",
       "index                                                              \n",
       "0      282.928669  64.751934  35.857665  15.0  3.684493  1.733080  \n",
       "1      314.402304  67.591192  35.151599  15.0  3.682122  1.518624  \n",
       "2      331.835963  69.891430  28.650815  15.0  3.680984  1.276831  \n",
       "3      336.608655  71.597389  28.532250  15.0  3.680257  1.034484  \n",
       "4      314.559317  69.771484  24.902615  15.0  3.679607  0.703489  \n",
       "5      284.434066  68.717507  25.330654  15.0  3.678878  0.462427  \n",
       "6      323.923756  77.398389  26.062942  15.0  3.646504  0.642071  \n",
       "7      341.809341  78.464496  29.550591  15.0  3.657716  0.849839  \n",
       "8      341.800246  76.823222  31.218162  15.0  3.641089  1.058537  \n",
       "9      334.441746  75.198227  31.538389  15.0  3.642008  1.267371  "
      ]
     },
     "execution_count": 2,
     "metadata": {},
     "output_type": "execute_result"
    }
   ],
   "source": [
    "df = pd.read_csv('Public_VLP_Dataset.csv', index_col = 'index')\n",
    "df.head(10)"
   ]
  },
  {
   "cell_type": "markdown",
   "metadata": {},
   "source": [
    "There are 13 columns, 11 being for the VLP RSS data (L1-L11) and the final 2 providing the x and y ground truth coordinates\n"
   ]
  },
  {
   "cell_type": "markdown",
   "metadata": {},
   "source": [
    "### Luminaire position dataset"
   ]
  },
  {
   "cell_type": "code",
   "execution_count": 3,
   "metadata": {},
   "outputs": [
    {
     "data": {
      "text/html": [
       "<div>\n",
       "<style scoped>\n",
       "    .dataframe tbody tr th:only-of-type {\n",
       "        vertical-align: middle;\n",
       "    }\n",
       "\n",
       "    .dataframe tbody tr th {\n",
       "        vertical-align: top;\n",
       "    }\n",
       "\n",
       "    .dataframe thead th {\n",
       "        text-align: right;\n",
       "    }\n",
       "</style>\n",
       "<table border=\"1\" class=\"dataframe\">\n",
       "  <thead>\n",
       "    <tr style=\"text-align: right;\">\n",
       "      <th></th>\n",
       "      <th>x</th>\n",
       "      <th>y</th>\n",
       "      <th>z</th>\n",
       "    </tr>\n",
       "    <tr>\n",
       "      <th>Luminaire</th>\n",
       "      <th></th>\n",
       "      <th></th>\n",
       "      <th></th>\n",
       "    </tr>\n",
       "  </thead>\n",
       "  <tbody>\n",
       "    <tr>\n",
       "      <th>L1</th>\n",
       "      <td>0.526</td>\n",
       "      <td>5.948</td>\n",
       "      <td>2.35</td>\n",
       "    </tr>\n",
       "    <tr>\n",
       "      <th>L2</th>\n",
       "      <td>0.526</td>\n",
       "      <td>3.550</td>\n",
       "      <td>2.35</td>\n",
       "    </tr>\n",
       "    <tr>\n",
       "      <th>L3</th>\n",
       "      <td>0.526</td>\n",
       "      <td>1.145</td>\n",
       "      <td>2.35</td>\n",
       "    </tr>\n",
       "    <tr>\n",
       "      <th>L4</th>\n",
       "      <td>2.327</td>\n",
       "      <td>1.145</td>\n",
       "      <td>2.35</td>\n",
       "    </tr>\n",
       "    <tr>\n",
       "      <th>L5</th>\n",
       "      <td>2.327</td>\n",
       "      <td>3.550</td>\n",
       "      <td>2.35</td>\n",
       "    </tr>\n",
       "    <tr>\n",
       "      <th>L6</th>\n",
       "      <td>4.726</td>\n",
       "      <td>5.948</td>\n",
       "      <td>2.35</td>\n",
       "    </tr>\n",
       "    <tr>\n",
       "      <th>L7</th>\n",
       "      <td>4.726</td>\n",
       "      <td>3.550</td>\n",
       "      <td>2.35</td>\n",
       "    </tr>\n",
       "    <tr>\n",
       "      <th>L8</th>\n",
       "      <td>4.726</td>\n",
       "      <td>1.145</td>\n",
       "      <td>2.35</td>\n",
       "    </tr>\n",
       "    <tr>\n",
       "      <th>L9</th>\n",
       "      <td>6.525</td>\n",
       "      <td>1.145</td>\n",
       "      <td>2.35</td>\n",
       "    </tr>\n",
       "    <tr>\n",
       "      <th>L10</th>\n",
       "      <td>6.525</td>\n",
       "      <td>3.550</td>\n",
       "      <td>2.35</td>\n",
       "    </tr>\n",
       "    <tr>\n",
       "      <th>L11</th>\n",
       "      <td>6.525</td>\n",
       "      <td>5.948</td>\n",
       "      <td>2.35</td>\n",
       "    </tr>\n",
       "  </tbody>\n",
       "</table>\n",
       "</div>"
      ],
      "text/plain": [
       "               x      y     z\n",
       "Luminaire                    \n",
       "L1         0.526  5.948  2.35\n",
       "L2         0.526  3.550  2.35\n",
       "L3         0.526  1.145  2.35\n",
       "L4         2.327  1.145  2.35\n",
       "L5         2.327  3.550  2.35\n",
       "L6         4.726  5.948  2.35\n",
       "L7         4.726  3.550  2.35\n",
       "L8         4.726  1.145  2.35\n",
       "L9         6.525  1.145  2.35\n",
       "L10        6.525  3.550  2.35\n",
       "L11        6.525  5.948  2.35"
      ]
     },
     "execution_count": 3,
     "metadata": {},
     "output_type": "execute_result"
    }
   ],
   "source": [
    "luminaire_df = pd.read_csv('luminaire_locations.csv', index_col = \"Luminaire\")\n",
    "luminaire_df"
   ]
  },
  {
   "cell_type": "markdown",
   "metadata": {},
   "source": [
    "The coordiantes provided are to the center of the luminaires surface."
   ]
  },
  {
   "cell_type": "markdown",
   "metadata": {},
   "source": [
    "## Visulising data\n",
    "The following plot provides a quick way to view the data"
   ]
  },
  {
   "cell_type": "code",
   "execution_count": 4,
   "metadata": {},
   "outputs": [
    {
     "data": {
      "image/png": "[encoded data removed]",
      "text/plain": [
       "<Figure size 360x360 with 1 Axes>"
      ]
     },
     "metadata": {
      "needs_background": "light"
     },
     "output_type": "display_data"
    }
   ],
   "source": [
    "target_luminaire = 'L7' # select the luminaire of interest\n",
    "\n",
    "fig = plt.figure(figsize = (5,5))\n",
    "ax = fig.add_subplot(111, projection = '3d')\n",
    "ax.set_xlabel('x (m)', fontsize = 12)\n",
    "ax.set_ylabel('y (m)', fontsize = 12)\n",
    "ax.set_zlabel('Power', fontsize = 12)\n",
    "\n",
    "ax.scatter(df['x'],df['y'],df[target_luminaire], c = df[target_luminaire], s = 4)\n",
    "\n",
    "ax.scatter(luminaire_df.x, luminaire_df.y,950)\n",
    "for i in range(len(luminaire_df)):    \n",
    "    ax.text(luminaire_df.iloc[i,0],luminaire_df.iloc[i,1], 1010,luminaire_df.iloc[i,:].name, fontsize = 8)\n"
   ]
  },
  {
   "cell_type": "markdown",
   "metadata": {},
   "source": [
    "## Example ML Implementation\n",
    "This section will provide a quick demo of how to implement kNN"
   ]
  },
  {
   "cell_type": "markdown",
   "metadata": {},
   "source": [
    "#### Split data into test and train sets"
   ]
  },
  {
   "cell_type": "code",
   "execution_count": 14,
   "metadata": {},
   "outputs": [],
   "source": [
    "from sklearn.model_selection import train_test_split\n",
    "\n",
    "train, test = train_test_split(df, test_size = 0.2, random_state = 42)\n",
    "X_train = train[['L1','L2','L3','L4','L5','L6','L7','L8','L9','L10','L11']].values\n",
    "X_test = test[['L1','L2','L3','L4','L5','L6','L7','L8','L9','L10','L11']].values\n",
    "y_train = train[['x','y']].values\n",
    "y_test = test[['x','y']].values"
   ]
  },
  {
   "cell_type": "markdown",
   "metadata": {},
   "source": [
    "#### Scale features"
   ]
  },
  {
   "cell_type": "code",
   "execution_count": 15,
   "metadata": {},
   "outputs": [],
   "source": [
    "from sklearn.preprocessing import StandardScaler\n",
    "standard_scaler = StandardScaler()\n",
    "X_train = standard_scaler.fit_transform(X_train)\n",
    "X_test = standard_scaler.transform(X_test)"
   ]
  },
  {
   "cell_type": "markdown",
   "metadata": {},
   "source": [
    "\n",
    "#### Create kNN regressor"
   ]
  },
  {
   "cell_type": "code",
   "execution_count": 16,
   "metadata": {},
   "outputs": [],
   "source": [
    "from sklearn.neighbors import KNeighborsRegressor\n",
    "kNN = KNeighborsRegressor(\n",
    "    n_neighbors = 5,\n",
    "    weights = 'distance',\n",
    "    metric = 'manhattan')"
   ]
  },
  {
   "cell_type": "markdown",
   "metadata": {},
   "source": [
    "#### Train and predict"
   ]
  },
  {
   "cell_type": "code",
   "execution_count": 19,
   "metadata": {},
   "outputs": [],
   "source": [
    "kNN.fit(X_train, y_train)\n",
    "y_predictions = kNN.predict(X_test)"
   ]
  },
  {
   "cell_type": "markdown",
   "metadata": {},
   "source": [
    "#### Assess performance"
   ]
  },
  {
   "cell_type": "code",
   "execution_count": 25,
   "metadata": {},
   "outputs": [],
   "source": [
    "def calculate_errors(source, target):\n",
    "    errs = []\n",
    "    for i in range(len(source)):\n",
    "        pred = source[i]\n",
    "        tar = target[i]\n",
    "        err = np.linalg.norm(pred-tar)\n",
    "        errs.append(err)\n",
    "    return np.array(errs)\n",
    "prediction_errors = calculate_errors(y_predictions, y_test)"
   ]
  },
  {
   "cell_type": "code",
   "execution_count": 43,
   "metadata": {},
   "outputs": [
    {
     "name": "stdout",
     "output_type": "stream",
     "text": [
      "Mean kNN error :  0.10884582452282145\n"
     ]
    }
   ],
   "source": [
    "print('Mean kNN error : ',errors.mean())"
   ]
  },
  {
   "cell_type": "code",
   "execution_count": 45,
   "metadata": {},
   "outputs": [
    {
     "data": {
      "text/plain": [
       "Text(0, 0.5, 'Error (m)')"
      ]
     },
     "execution_count": 45,
     "metadata": {},
     "output_type": "execute_result"
    },
    {
     "data": {
      "image/png": "[encoded data removed]",
      "text/plain": [
       "<Figure size 432x288 with 1 Axes>"
      ]
     },
     "metadata": {
      "needs_background": "light"
     },
     "output_type": "display_data"
    }
   ],
   "source": [
    "_ = plt.boxplot(prediction_errors)\n",
    "plt.title('kNN errors')\n",
    "plt.ylabel('Error (m)')"
   ]
  },
  {
   "cell_type": "markdown",
   "metadata": {},
   "source": [
    "There is one major outlier that needs to be removed before we can plot a histogram"
   ]
  },
  {
   "cell_type": "code",
   "execution_count": 41,
   "metadata": {},
   "outputs": [
    {
     "data": {
      "text/plain": [
       "Text(0, 0.5, 'count')"
      ]
     },
     "execution_count": 41,
     "metadata": {},
     "output_type": "execute_result"
    },
    {
     "data": {
      "image/png": "[encoded data removed]",
      "text/plain": [
       "<Figure size 432x288 with 1 Axes>"
      ]
     },
     "metadata": {
      "needs_background": "light"
     },
     "output_type": "display_data"
    }
   ],
   "source": [
    "_ = plt.hist(prediction_errors[prediction_errors < 2], bins = 40)\n",
    "plt.title('kNN errors')\n",
    "plt.xlabel('Error (m)')\n",
    "plt.ylabel('count')"
   ]
  },
  {
   "cell_type": "code",
   "execution_count": null,
   "metadata": {},
   "outputs": [],
   "source": []
  }
 ],
 "metadata": {
  "kernelspec": {
   "display_name": "Python 3",
   "language": "python",
   "name": "python3"
  },
  "language_info": {
   "codemirror_mode": {
    "name": "ipython",
    "version": 3
   },
   "file_extension": ".py",
   "mimetype": "text/x-python",
   "name": "python",
   "nbconvert_exporter": "python",
   "pygments_lexer": "ipython3",
   "version": "3.7.7"
  }
 },
 "nbformat": 4,
 "nbformat_minor": 4
}
